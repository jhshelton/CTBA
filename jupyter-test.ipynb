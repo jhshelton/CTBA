{
 "cells": [
  {
   "cell_type": "code",
   "execution_count": 76,
   "id": "7a9b608b",
   "metadata": {},
   "outputs": [
    {
     "name": "stdout",
     "output_type": "stream",
     "text": [
      "7\n",
      "data\n",
      "10\n",
      "15\n"
     ]
    }
   ],
   "source": [
    "x=7\n",
    "y='data'\n",
    "print(x)\n",
    "print(y)\n",
    "#test comment\n",
    "\n",
    "all_lower = y.lower()\n",
    "all_upper = y.upper()\n",
    "my_variable = 10\n",
    "print(my_variable)\n",
    "\n",
    "my_variable += 5\n",
    "\n",
    "print(my_variable)"
   ]
  },
  {
   "cell_type": "markdown",
   "id": "a40d3677",
   "metadata": {},
   "source": [
    "working with strings"
   ]
  },
  {
   "cell_type": "code",
   "execution_count": 77,
   "id": "6efe450d",
   "metadata": {},
   "outputs": [
    {
     "name": "stdout",
     "output_type": "stream",
     "text": [
      "what are you studying?\n",
      "Analytics!\n"
     ]
    },
    {
     "data": {
      "text/plain": [
       "str"
      ]
     },
     "execution_count": 77,
     "metadata": {},
     "output_type": "execute_result"
    }
   ],
   "source": [
    "question = 'what are you studying?'\n",
    "answer = 'Analytics!'\n",
    "print(f'{question}\\n{answer}')\n",
    "type(answer)\n"
   ]
  },
  {
   "cell_type": "code",
   "execution_count": 78,
   "id": "f1ee816b",
   "metadata": {},
   "outputs": [
    {
     "data": {
      "text/plain": [
       "10"
      ]
     },
     "execution_count": 78,
     "metadata": {},
     "output_type": "execute_result"
    }
   ],
   "source": [
    "len(answer)"
   ]
  },
  {
   "cell_type": "code",
   "execution_count": 79,
   "id": "bb17218f",
   "metadata": {},
   "outputs": [
    {
     "name": "stdout",
     "output_type": "stream",
     "text": [
      "A\n",
      "a\n",
      "!\n",
      "!\n"
     ]
    }
   ],
   "source": [
    "#indexing string\n",
    "print(answer[0])\n",
    "print(answer[2])\n",
    "print(answer[9])\n",
    "#find the last character\n",
    "print(answer[-1])"
   ]
  },
  {
   "cell_type": "code",
   "execution_count": 80,
   "id": "05fd40c9",
   "metadata": {},
   "outputs": [
    {
     "name": "stdout",
     "output_type": "stream",
     "text": [
      "CT\n",
      "CT\n"
     ]
    }
   ],
   "source": [
    "course = 'CTBA'\n",
    "len(course)\n",
    "print(course[0:2])\n",
    "print(course[-4:-2])"
   ]
  },
  {
   "cell_type": "code",
   "execution_count": 81,
   "id": "6b8cd7ff",
   "metadata": {},
   "outputs": [
    {
     "name": "stdout",
     "output_type": "stream",
     "text": [
      "5\n"
     ]
    }
   ],
   "source": [
    "#functions and methods\n",
    "answer_cap = answer.upper()\n",
    "\n",
    "answer.lower()\n",
    "print(answer.find('t'))"
   ]
  },
  {
   "cell_type": "code",
   "execution_count": 82,
   "id": "a3de4aa5",
   "metadata": {},
   "outputs": [
    {
     "name": "stdout",
     "output_type": "stream",
     "text": [
      "3.0\n"
     ]
    }
   ],
   "source": [
    "import numpy as np\n",
    "numbers = [1,2,3,4,5]\n",
    "print(np.mean(numbers))"
   ]
  },
  {
   "cell_type": "code",
   "execution_count": 83,
   "id": "6e2f04ac",
   "metadata": {},
   "outputs": [
    {
     "name": "stdout",
     "output_type": "stream",
     "text": [
      "Hello, my name is Jackson Shelton. I am studying business analytics.\n"
     ]
    }
   ],
   "source": [
    "name = 'jackson shelton'\n",
    "print(f'Hello, my name is {name.title()}. I am studying business analytics.')\n"
   ]
  },
  {
   "cell_type": "code",
   "execution_count": 84,
   "id": "427c0364",
   "metadata": {},
   "outputs": [
    {
     "name": "stdout",
     "output_type": "stream",
     "text": [
      "(1, 2, 3, 4, 5, 6)\n",
      "1\n"
     ]
    }
   ],
   "source": [
    "#tuples\n",
    "t1 = (1,2,3,4,5,6)\n",
    "print(t1)\n",
    "print(t1[0])\n",
    "#recall that these are immutable, so saying t1[0] = 2 will yield and error"
   ]
  },
  {
   "cell_type": "code",
   "execution_count": 85,
   "id": "2944ef8f",
   "metadata": {},
   "outputs": [
    {
     "name": "stdout",
     "output_type": "stream",
     "text": [
      "Jackson Shelton\n",
      "{'name': 'Jackson Shelton', 'age': 21, 'city': 'Williamsburg', 'email': 'jhshelton@wm.edu'}\n"
     ]
    }
   ],
   "source": [
    "#dictnaries\n",
    "d1 = {'name': 'Jackson Shelton', 'age':21, 'city': 'Williamsburg'}\n",
    "print(d1['name'])\n",
    "d1['email'] = 'jhshelton@wm.edu'\n",
    "print(d1)"
   ]
  },
  {
   "cell_type": "code",
   "execution_count": 86,
   "id": "8c13aae7",
   "metadata": {},
   "outputs": [
    {
     "name": "stdout",
     "output_type": "stream",
     "text": [
      "name : Jackson Shelton\n",
      "age : 21\n",
      "city : Williamsburg\n",
      "email : jhshelton@wm.edu\n"
     ]
    }
   ],
   "source": [
    "#item loops\n",
    "for key, value in d1.items():\n",
    "    print(key, \":\", value)"
   ]
  },
  {
   "cell_type": "code",
   "execution_count": 87,
   "id": "55575c89",
   "metadata": {},
   "outputs": [
    {
     "name": "stdout",
     "output_type": "stream",
     "text": [
      "Jackson Shelton\n"
     ]
    }
   ],
   "source": [
    "#dictionaries in dictionaries\n",
    "people = {'person 1': {'name': 'Jackson Shelton', 'age': 23, 'city': 'Williamsburg'}, 'person 2': {'name': 'David Shelton', 'age':59, 'city':'Norfolk'}}\n",
    "print(people['person 1']['name'])"
   ]
  },
  {
   "cell_type": "code",
   "execution_count": 88,
   "id": "d5c1cf58",
   "metadata": {},
   "outputs": [
    {
     "name": "stdout",
     "output_type": "stream",
     "text": [
      "{'A': {'B': 10, 'C': 15}, 'B': {'A': 10, 'C': 20}, 'C': {'A': 15, 'B': 20}}\n"
     ]
    }
   ],
   "source": [
    "#distances example\n",
    "distances = {\n",
    "    \"A\": {'B':10, 'C':15},\n",
    "    \"B\": {'A':10, 'C':20 },\n",
    "    'C':{'A':15, 'B':20}\n",
    "}\n",
    "print(distances)"
   ]
  },
  {
   "cell_type": "code",
   "execution_count": 89,
   "id": "112a11ad",
   "metadata": {},
   "outputs": [
    {
     "name": "stdout",
     "output_type": "stream",
     "text": [
      "{'GPA': 3.0, 'Major': 'Biology', '#courses': 2}\n"
     ]
    }
   ],
   "source": [
    "#student GPA\n",
    "GPA = {'Bryce':3.8, 'Mann': 3.6, 'Tai':3.4}\n",
    "student_info = {'Bryce': {'GPA': 3.8, 'Major':'Government', '#courses':4}, \n",
    "                'Mann':{'GPA': 3.6, 'Major':'Economics', '#courses':3},\n",
    "                'Tai': {'GPA':3.4, 'Major':'Mathematics', '#courses':5}}\n",
    "student_info['Conner'] = {'GPA': 3.0, 'Major':'Biology', '#courses': 2}\n",
    "print(student_info['Conner'])"
   ]
  },
  {
   "cell_type": "code",
   "execution_count": 90,
   "id": "a92b5ae7",
   "metadata": {},
   "outputs": [
    {
     "name": "stdout",
     "output_type": "stream",
     "text": [
      "X is greater than 5\n",
      "x is nor a factor of 3\n",
      "Positive\n"
     ]
    }
   ],
   "source": [
    "#if statements\n",
    "x = 7\n",
    "if x >5:\n",
    "    print('X is greater than 5')\n",
    "if x % 3 == 0:\n",
    "    print('x is a factor of 3')\n",
    "else:\n",
    "    print('x is nor a factor of 3')\n",
    "if x > 0:\n",
    "    print('Positive')\n",
    "elif x <0:\n",
    "    print('Negative')\n",
    "else:\n",
    "    print('zero')"
   ]
  },
  {
   "cell_type": "code",
   "execution_count": 91,
   "id": "104332b7",
   "metadata": {},
   "outputs": [
    {
     "name": "stdout",
     "output_type": "stream",
     "text": [
      "2\n",
      "3\n",
      "4\n"
     ]
    }
   ],
   "source": [
    "#for loops\n",
    "for i in range(2,5):\n",
    "    print(i)"
   ]
  },
  {
   "cell_type": "code",
   "execution_count": 92,
   "id": "7ee38d8e",
   "metadata": {},
   "outputs": [
    {
     "name": "stdout",
     "output_type": "stream",
     "text": [
      "x is even\n",
      "x is odd\n",
      "x is even\n",
      "x is odd\n",
      "x is even\n"
     ]
    }
   ],
   "source": [
    "#while loop\n",
    "x = 0\n",
    "while x<5:\n",
    "    if x % 2 == 0:\n",
    "        print(\"x is even\")\n",
    "    else:\n",
    "        print('x is odd')\n",
    "    x += 1"
   ]
  },
  {
   "cell_type": "code",
   "execution_count": 93,
   "id": "165a12cd",
   "metadata": {},
   "outputs": [
    {
     "name": "stdout",
     "output_type": "stream",
     "text": [
      "3\n",
      "3\n",
      "0\n"
     ]
    }
   ],
   "source": [
    "#making functions\n",
    "def sum_up(a = 0, b = 0):\n",
    "    '''test docstring'''\n",
    "    print(a+b)\n",
    "sum_up(1,2)\n",
    "sum_up(a = 1, b = 2)\n",
    "sum_up()"
   ]
  },
  {
   "cell_type": "code",
   "execution_count": 94,
   "id": "30b9dbeb",
   "metadata": {},
   "outputs": [
    {
     "name": "stdout",
     "output_type": "stream",
     "text": [
      "2\n"
     ]
    }
   ],
   "source": [
    "#return function\n",
    "def return_sum(a = 0, b =0):\n",
    "    return(a+b)\n",
    "print(return_sum(1,1))"
   ]
  },
  {
   "cell_type": "code",
   "execution_count": null,
   "id": "efbb608a",
   "metadata": {},
   "outputs": [],
   "source": [
    "\n",
    "arr1 = np.array([1,2,3,4,5])\n",
    "print(arr1)\n",
    "list2 = [(1,2,3), (4,5,6),]\n",
    "print(list2)\n",
    "arr2 = np.array(list2)\n",
    "print(arr2)\n",
    "\n",
    "for e in arr1:\n",
    "    print(e)\n",
    "arr1 = np.append(arr1, 6)\n",
    "for e in arr1:\n",
    "    print(e)\n",
    "\n",
    "doub_arr = arr1+arr1\n",
    "for e in doub_arr:\n",
    "    print(e)"
   ]
  }
 ],
 "metadata": {
  "kernelspec": {
   "display_name": "CTBA",
   "language": "python",
   "name": "python3"
  },
  "language_info": {
   "codemirror_mode": {
    "name": "ipython",
    "version": 3
   },
   "file_extension": ".py",
   "mimetype": "text/x-python",
   "name": "python",
   "nbconvert_exporter": "python",
   "pygments_lexer": "ipython3",
   "version": "3.13.5"
  }
 },
 "nbformat": 4,
 "nbformat_minor": 5
}
